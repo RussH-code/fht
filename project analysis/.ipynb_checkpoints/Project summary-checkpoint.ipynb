{
 "cells": [
  {
   "cell_type": "markdown",
   "metadata": {},
   "source": [
    "# Research Project - Impact of functional divergence on divergence time estimation"
   ]
  },
  {
   "cell_type": "markdown",
   "metadata": {},
   "source": [
    "## Dataset"
   ]
  },
  {
   "cell_type": "markdown",
   "metadata": {},
   "source": [
    "- **Bett's (2018) deep phylogeny dataset - 102 taxa 29 genes**"
   ]
  },
  {
   "cell_type": "markdown",
   "metadata": {},
   "source": [
    "- **35_noEF2 dataset**"
   ]
  },
  {
   "cell_type": "markdown",
   "metadata": {},
   "source": [
    "- **49gene_concat_4_removed dataset**"
   ]
  },
  {
   "cell_type": "markdown",
   "metadata": {},
   "source": [
    "## 1. Effect of Functional Divergence on Tree Topology"
   ]
  },
  {
   "cell_type": "markdown",
   "metadata": {},
   "source": [
    "### a. Comparing Tree Topology before and after filtering most functionally divergent sites."
   ]
  },
  {
   "cell_type": "markdown",
   "metadata": {},
   "source": [
    "#### - Introduction\n",
    "\n",
    "GroupSim was used to score functional divergent (FD) sites based on amino acid usage. It is written by Capra (2008). A pipeline was built to create the input files for GroupSim, and use the outputs (FD scores) to seperate MSA into most and least functionally divergent according to user-specified percentage. The pipeline can be found in `/GroupSim/pipeline`.\n",
    "\n",
    "The grouping is **eukatryotes vs archaea + bacteria**"
   ]
  },
  {
   "cell_type": "markdown",
   "metadata": {},
   "source": [
    "### Unfiltered Tree (Betts)"
   ]
  },
  {
   "cell_type": "markdown",
   "metadata": {},
   "source": [
    "![betts_filtered_50](GroupSim/Betts/iqtree/102_taxa_unfiltered.png)"
   ]
  },
  {
   "cell_type": "markdown",
   "metadata": {},
   "source": [
    "### Filtered Tree - 50% least Divergent Sites (Betts)"
   ]
  },
  {
   "cell_type": "markdown",
   "metadata": {},
   "source": [
    "![betts_filtered_50](GroupSim/Betts/iqtree/alignment_102_taxa_l_filtered50.png)"
   ]
  },
  {
   "cell_type": "markdown",
   "metadata": {},
   "source": [
    "### Filtered Tree - 50% Most Divergent Sites (Betts)"
   ]
  },
  {
   "cell_type": "markdown",
   "metadata": {},
   "source": [
    "![betts_filtered_50](GroupSim/Betts/iqtree/alignment_102_taxa_m_filtered50.png)"
   ]
  },
  {
   "cell_type": "markdown",
   "metadata": {},
   "source": [
    "> - Green - Bacteria\n",
    "> - Red - Archaea\n",
    "> - Blue - Eukaryotes"
   ]
  },
  {
   "cell_type": "markdown",
   "metadata": {},
   "source": [
    "### Filtered Tree - 50% least Divergent Sites with LG+C60 (Betts)"
   ]
  },
  {
   "cell_type": "markdown",
   "metadata": {},
   "source": [
    "![betts_filtered_50_C60](GroupSim/Betts/iqtree/filtered_50_LG_C60_G.png)"
   ]
  },
  {
   "cell_type": "markdown",
   "metadata": {},
   "source": [
    "Sites that are the least divergent recover a 3D tree, with archaea as a sister clade with eukaryotes, it also suggests eukaryotes as an earlier branching domain than archaea. Using profile-mixture model C60 on IQTree results in a similar overall tree topology.\n",
    "\n",
    "The most divergent sites recovers similar tree topology as the unfiltered tree, with bacteria and archaea as the two primary domain and eukaryote branching off the latter. This is interesting because subsets of the data can suggest different relationships, and raises the question of which portion of the data is more representative of the underlying evolutionary process."
   ]
  },
  {
   "cell_type": "markdown",
   "metadata": {},
   "source": [
    "Similar results are observed with other datasets."
   ]
  },
  {
   "cell_type": "markdown",
   "metadata": {},
   "source": [
    "### Unfiltered Tree - (35_noEF2)"
   ]
  },
  {
   "cell_type": "markdown",
   "metadata": {},
   "source": [
    "![35_noef2_01](GroupSim/35_noEF2/iqtree/35_eu/35_noEF2_unfiltered.png)"
   ]
  },
  {
   "cell_type": "markdown",
   "metadata": {},
   "source": [
    "### Filtered Tree -  50% least Divergent Sites with LG+C60 (35_noEF2)"
   ]
  },
  {
   "cell_type": "markdown",
   "metadata": {},
   "source": [
    "![35_noef2_02](GroupSim/35_noEF2/iqtree/35_eu/35_l_filtered50_C60.png)"
   ]
  },
  {
   "cell_type": "markdown",
   "metadata": {},
   "source": [
    "### Filtered Tree -  50% most Divergent Sites with LG+C60 (35_noEF2)"
   ]
  },
  {
   "cell_type": "markdown",
   "metadata": {},
   "source": [
    "![35_noef2_03](GroupSim/35_noEF2/iqtree/35_eu/35_m_filtered50_C60.png)"
   ]
  },
  {
   "cell_type": "markdown",
   "metadata": {},
   "source": [
    "Same pettern is observed with 49_gene dataset (in 49_gene_4removed folder)."
   ]
  },
  {
   "cell_type": "markdown",
   "metadata": {},
   "source": [
    "### b. Exploring the effect of different groupings on functional divergence calculation and tree building"
   ]
  },
  {
   "cell_type": "markdown",
   "metadata": {},
   "source": [
    "### - **eukatryotes + archaea vs bacteria**"
   ]
  },
  {
   "cell_type": "markdown",
   "metadata": {},
   "source": [
    "### Filtered Tree -  50% least Divergent Sites with LG+C60 (35_noEF2)"
   ]
  },
  {
   "cell_type": "markdown",
   "metadata": {},
   "source": [
    "![35__euarch](GroupSim/35_noEF2/iqtree/35_euarch/35_l_euarch.png)"
   ]
  },
  {
   "cell_type": "markdown",
   "metadata": {},
   "source": [
    "### Filtered Tree - 50% Most Divergent Sites with LG+C60 (35_noEF2)"
   ]
  },
  {
   "cell_type": "markdown",
   "metadata": {},
   "source": [
    "![35__euarch](GroupSim/35_noEF2/iqtree/35_euarch/35_m_euarch.png)"
   ]
  },
  {
   "cell_type": "markdown",
   "metadata": {},
   "source": [
    "### - **eukatryotes + TACK archaea vs other archaea + bacteria**"
   ]
  },
  {
   "cell_type": "markdown",
   "metadata": {},
   "source": [
    "### Filtered Tree - 50% Least Divergent Sites with LG+C60 (35_noEF2)"
   ]
  },
  {
   "cell_type": "markdown",
   "metadata": {},
   "source": [
    "![35__euarch](GroupSim/35_noEF2/iqtree/35_tack/35_l_tack.png)"
   ]
  },
  {
   "cell_type": "markdown",
   "metadata": {},
   "source": [
    "### Filtered Tree - 50% Most Divergent Sites with LG+C60 (35_noEF2)"
   ]
  },
  {
   "cell_type": "markdown",
   "metadata": {},
   "source": [
    "![35__euarch](GroupSim/35_noEF2/iqtree/35_tack/35_m_tack.png)"
   ]
  },
  {
   "cell_type": "markdown",
   "metadata": {},
   "source": [
    "It seems grouping have a strong effect on the topology. When eukaryotes and archaea are grouped together, the two trees resolve similar relationshiop with archaea as a sister clade with bacteria, and eukaryotes branching off the former. However, there is substantial difference in the lenght of branch seperating the two clades.\n",
    "\n",
    "When eukaryotes are grouped with TACK archaea, the results are similar to that of eukaryotes vs archaea + bacteria grouping. The least divergent subset again resolves eukaryotes and bacteria as sister clades. "
   ]
  },
  {
   "cell_type": "markdown",
   "metadata": {},
   "source": [
    "### c. Goldilocks zone"
   ]
  },
  {
   "cell_type": "markdown",
   "metadata": {},
   "source": [
    "We also try to filter out the top and bottom 25% to obtain the less extreme portion of the MSA."
   ]
  },
  {
   "cell_type": "markdown",
   "metadata": {},
   "source": [
    "### Filtered Tree - 50% Goldilocks zone with LG+C60 (35_noEF2)"
   ]
  },
  {
   "cell_type": "markdown",
   "metadata": {},
   "source": [
    "![35__euarch](GroupSim/35_noEF2/iqtree/35_goldilocks/35_middle.png)"
   ]
  },
  {
   "cell_type": "markdown",
   "metadata": {},
   "source": [
    "Although the tree is generally 2D, this tree seems to contradict other lines of evidence that Lokiarchaea seem to the closest known relatives to eukaryotes. In this tree, eukaryote also forms an early branching clade along with two other clades of archaea."
   ]
  },
  {
   "cell_type": "markdown",
   "metadata": {},
   "source": [
    "## 2. Relationship between site rate and functional divergence score"
   ]
  },
  {
   "cell_type": "markdown",
   "metadata": {},
   "source": [
    "Here we investigate the relationship if functional divergence is related to rate score (IQTree --rate), and if more divergent sites display a distinctive pattern of evolution rate."
   ]
  },
  {
   "cell_type": "markdown",
   "metadata": {},
   "source": [
    "![35__euarch](GroupSim/35_noEF2/iqtree/rate/rate_vs_fd_score.png)"
   ]
  },
  {
   "cell_type": "markdown",
   "metadata": {},
   "source": [
    "The does not seem to be a relationship between site rate and FD score."
   ]
  },
  {
   "cell_type": "markdown",
   "metadata": {},
   "source": [
    "## 3. Heterotachy metrics"
   ]
  },
  {
   "cell_type": "markdown",
   "metadata": {},
   "source": [
    "Using GHOST partition, and seperating MSA into subsets according to GHOST class and inferring a tree for each, we get different time estimates. (James analysis)"
   ]
  },
  {
   "cell_type": "markdown",
   "metadata": {},
   "source": [
    "## a. Variation over mean "
   ]
  },
  {
   "cell_type": "markdown",
   "metadata": {},
   "source": [
    "For each site in the MSA, we compute a score that is the sum of eucledien distance of all subtrees from the mean tree, weighted by the probability of each site to be in each GHOST class."
   ]
  },
  {
   "cell_type": "markdown",
   "metadata": {},
   "source": [
    "![heterotachy](heterotachy/35_gene_hscore.png)"
   ]
  },
  {
   "cell_type": "markdown",
   "metadata": {},
   "source": [
    "![heterotachy](heterotachy/35_gene_variation.png)"
   ]
  },
  {
   "cell_type": "markdown",
   "metadata": {},
   "source": [
    "## b. Site Rate Shift"
   ]
  },
  {
   "cell_type": "markdown",
   "metadata": {},
   "source": [
    "Another metrics implemented is the site rate shift that compares the rate of sites in two trees derived from two groups. Two trees are first inferred seperately on two different groups of species on the same genes (same MSA), along with their respective site rates. The site rates on the two trees are then ranked and the differences in their ranking are scored. We postulate that sites that exhibit relatively larger change in site rates are more heterotachous and filtering them out would minimise its effects."
   ]
  },
  {
   "cell_type": "markdown",
   "metadata": {},
   "source": [
    "### Filtered Tree - 75% sites with lowest rate shift score LG+C60 (35_noEF2)"
   ]
  },
  {
   "cell_type": "markdown",
   "metadata": {},
   "source": [
    "![srs_35](heterotachy/35_rs_filter25_bootstrap.png)"
   ]
  },
  {
   "cell_type": "markdown",
   "metadata": {},
   "source": [
    "### Filtered Tree - 75% sites with lowest rate shift score LG+C60 (Betts)"
   ]
  },
  {
   "cell_type": "markdown",
   "metadata": {},
   "source": [
    "![](heterotachy/102_rs_filter25.png)"
   ]
  },
  {
   "cell_type": "markdown",
   "metadata": {},
   "source": [
    "Runnning the filtered MSA through GHOST and dating. (Wait for James)"
   ]
  },
  {
   "cell_type": "markdown",
   "metadata": {},
   "source": [
    "## 4. Diversity analysis (MFP dataset)"
   ]
  },
  {
   "cell_type": "markdown",
   "metadata": {},
   "source": [
    "![](heterotachy/round3/round3_rs_filtered.png)"
   ]
  },
  {
   "cell_type": "markdown",
   "metadata": {},
   "source": [
    "Filtering has little effect on the diversity of bacteria relative to archaea. "
   ]
  },
  {
   "cell_type": "code",
   "execution_count": null,
   "metadata": {},
   "outputs": [],
   "source": []
  }
 ],
 "metadata": {
  "kernelspec": {
   "display_name": "Python 3",
   "language": "python",
   "name": "python3"
  },
  "language_info": {
   "codemirror_mode": {
    "name": "ipython",
    "version": 3
   },
   "file_extension": ".py",
   "mimetype": "text/x-python",
   "name": "python",
   "nbconvert_exporter": "python",
   "pygments_lexer": "ipython3",
   "version": "3.8.5"
  }
 },
 "nbformat": 4,
 "nbformat_minor": 4
}
